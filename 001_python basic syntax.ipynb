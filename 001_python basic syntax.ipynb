{
 "cells": [
  {
   "cell_type": "markdown",
   "metadata": {},
   "source": [
    "===>>> syntax\n",
    "\n",
    "        1. The structure for writing a program \n",
    "\n",
    "===>>> program\n",
    "\n",
    "        1. Collection of instructions to do any one specific task\n",
    "\n",
    "===>>> instruction\n",
    "\n",
    "        1. The line of code with in the program\n",
    "        \n",
    "        2. There are 2 types \n",
    "                \n",
    "                   1. comments   --->>which can't be executable\n",
    "                   \n",
    "                                 --->> which are used for to give the brief explanation for each and every statement\n",
    "                                \n",
    "                                 --->> single line    #\n",
    "                                 \n",
    "                                 --->>  multiple line  ''' '''\n",
    "                          \n",
    "                   2. statements  --->> which are executable"
   ]
  },
  {
   "cell_type": "code",
   "execution_count": 1,
   "metadata": {},
   "outputs": [
    {
     "name": "stdout",
     "output_type": "stream",
     "text": [
      "hello\n",
      "hai\n"
     ]
    }
   ],
   "source": [
    "# single line comment\n",
    "'''\n",
    "this \n",
    "is\n",
    "multiline comment\n",
    "'''\n",
    "print \"hello\" # statement\n",
    "print \"hai\"   # statement"
   ]
  },
  {
   "cell_type": "markdown",
   "metadata": {},
   "source": [
    "===>> statments can implimentd with two names\n",
    "\n",
    "1. keywords\n",
    "\n",
    "    ===>>  which are predefined words\n",
    "    \n",
    "    ===>>  we have to use each and every keyword for some kind of specific tasks\n",
    "\n",
    "2. identifiers\n",
    "\n",
    "    ===>>  which are user / programmer defined words \n",
    "    \n",
    "    ===>>  to give the name entities for variables , classes and functions\n",
    "    \n",
    "Rules for identifiers\n",
    "\n",
    "    ===>>  we can use all alphabets    a -z / A -Z\n",
    "    \n",
    "    ===>>  we can use digits but don't start with digits   0 - 9\n",
    "    \n",
    "    ===>>  we can use underscore   _\n",
    "    \n",
    "    ===>>  don't use keywords \n",
    "    \n",
    "    ===>>  don't use special characters   !@#$%^&*(){}-=+/.,\"':;~`"
   ]
  },
  {
   "cell_type": "code",
   "execution_count": 2,
   "metadata": {},
   "outputs": [
    {
     "name": "stdout",
     "output_type": "stream",
     "text": [
      "['and', 'as', 'assert', 'break', 'class', 'continue', 'def', 'del', 'elif', 'else', 'except', 'exec', 'finally', 'for', 'from', 'global', 'if', 'import', 'in', 'is', 'lambda', 'not', 'or', 'pass', 'print', 'raise', 'return', 'try', 'while', 'with', 'yield']\n"
     ]
    }
   ],
   "source": [
    "#import --------->> keyword\n",
    "import keyword\n",
    "print keyword.kwlist"
   ]
  },
  {
   "cell_type": "markdown",
   "metadata": {},
   "source": [
    "variable \n",
    "\n",
    "===>> which are identifiers\n",
    "\n",
    "===>> which are used for to store the data with in memory loc\n",
    "\n",
    "===>> we can access the data from memory loc \n",
    "\n",
    "===>> we can directly  assign the data to variable"
   ]
  },
  {
   "cell_type": "code",
   "execution_count": 3,
   "metadata": {},
   "outputs": [
    {
     "name": "stdout",
     "output_type": "stream",
     "text": [
      "1123\n"
     ]
    }
   ],
   "source": [
    "var = 1123\n",
    "print var"
   ]
  },
  {
   "cell_type": "code",
   "execution_count": 4,
   "metadata": {},
   "outputs": [
    {
     "name": "stdout",
     "output_type": "stream",
     "text": [
      "123\n"
     ]
    }
   ],
   "source": [
    "va_34 =123\n",
    "print va_34"
   ]
  },
  {
   "cell_type": "code",
   "execution_count": null,
   "metadata": {},
   "outputs": [],
   "source": []
  }
 ],
 "metadata": {
  "kernelspec": {
   "display_name": "Python 2",
   "language": "python",
   "name": "python2"
  },
  "language_info": {
   "codemirror_mode": {
    "name": "ipython",
    "version": 2
   },
   "file_extension": ".py",
   "mimetype": "text/x-python",
   "name": "python",
   "nbconvert_exporter": "python",
   "pygments_lexer": "ipython2",
   "version": "2.7.16"
  }
 },
 "nbformat": 4,
 "nbformat_minor": 2
}
