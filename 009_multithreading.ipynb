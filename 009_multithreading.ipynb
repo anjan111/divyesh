{
 "cells": [
  {
   "cell_type": "code",
   "execution_count": 2,
   "metadata": {},
   "outputs": [
    {
     "name": "stdout",
     "output_type": "stream",
     "text": [
      "start time :  1579311588.86\n",
      "main function started\n",
      "fun function started\n",
      "hello\n",
      "hello\n",
      "hello\n",
      "hello\n",
      "hello\n",
      "hello\n",
      "hello\n",
      "hello\n",
      "hello\n",
      "hello\n",
      "fun function stoped\n",
      "main function stoped\n",
      "stop time :  1579311598.87\n"
     ]
    }
   ],
   "source": [
    "# program\n",
    "'''\n",
    "==>> collection of statements to do any one specific task\n",
    "'''\n",
    "# process \n",
    "'''\n",
    "===>> the program which is an execution then it is a process\n",
    "'''\n",
    "# Multiprocess\n",
    "'''\n",
    "--->>one single cpu can process only single program\n",
    "using h/w --->> increase the no of cpu \n",
    "using s/w -->>  scheduling algorithms \n",
    "                1. FIFO  --->>\n",
    "                2. roundrobin --->> time slcing\n",
    "                3. pre- emptive  -->> based on process priority \n",
    "\n",
    "'''\n",
    "# process states\n",
    "'''\n",
    "--->> start\n",
    "--->> runing\n",
    "--->> wait\n",
    "--->> ready\n",
    "--->> stop\n",
    "'''\n",
    "# thread\n",
    "'''\n",
    "--->> its a part of the program\n",
    "-->> main process its parent of the thread\n",
    "--->> independded process  ( main process kills even the thread is being executing  )\n",
    "--->> parallell execution\n",
    "'''\n",
    "import time\n",
    "\n",
    "def fun():\n",
    "    print \"fun function started\"\n",
    "    for i in range(10):\n",
    "        print \"hello\"\n",
    "        time.sleep(1)\n",
    "    print \"fun function stoped\"\n",
    "def main():\n",
    "    print \"main function started\"\n",
    "    fun()\n",
    "    print \"main function stoped\"\n",
    "\n",
    "if __name__ == \"__main__\":\n",
    "    print \"start time : \",time.time()\n",
    "    main()\n",
    "    print \"stop time : \", time.time()"
   ]
  },
  {
   "cell_type": "code",
   "execution_count": 8,
   "metadata": {},
   "outputs": [
    {
     "name": "stdout",
     "output_type": "stream",
     "text": [
      "start time :  1579311776.41\n",
      "main function started\n",
      "main function stoped\n",
      "stop time :  1579311776.41\n",
      "fun function started\n",
      "hello\n",
      "hello\n",
      "hello\n",
      "hello\n",
      "hello\n",
      "hello\n",
      "hello\n",
      "hello\n",
      "hello\n",
      "hello\n",
      "fun function stoped\n"
     ]
    }
   ],
   "source": [
    "import time\n",
    "import thread\n",
    "\n",
    "def fun(name=None):\n",
    "    print \"fun function started\"\n",
    "    for i in range(10):\n",
    "        print \"hello\"\n",
    "        time.sleep(1)\n",
    "    print \"fun function stoped\"\n",
    "def main():\n",
    "    print \"main function started\"\n",
    "    thread.start_new_thread(fun,())\n",
    "    print \"main function stoped\"\n",
    "\n",
    "if __name__ == \"__main__\":\n",
    "    print \"start time : \",time.time()\n",
    "    main()\n",
    "    print \"stop time : \", time.time()"
   ]
  },
  {
   "cell_type": "code",
   "execution_count": 11,
   "metadata": {},
   "outputs": [
    {
     "name": "stdout",
     "output_type": "stream",
     "text": [
      "start time :  1579311977.99\n",
      "main function started\n",
      "main function stoped\n",
      "stop time :  1579311977.99fun function started\n",
      "fun function started\n",
      "\n",
      "Name : Name :   ashishdarshan\n",
      "\n",
      "Name : Name :   darshanashish\n",
      "\n",
      "Name : Name :  ashish\n",
      " darshan\n",
      "Name :  ashish\n",
      " Name :  darshan\n",
      "Name :  ashishName : \n",
      "darshan\n",
      "Name : Name :   ashishdarshan\n",
      "\n",
      "Name : Name :   darshanashish\n",
      "\n",
      "Name : Name :   ashishdarshan\n",
      "\n",
      "Name :  Name : ashish \n",
      "darshan\n",
      "Name : Name :  ashish \n",
      "darshan\n",
      "fun function stopedfun function stoped\n",
      "\n"
     ]
    }
   ],
   "source": [
    "import time\n",
    "import thread\n",
    "\n",
    "def fun(name=None):\n",
    "    print \"fun function started\"\n",
    "    for i in range(10):\n",
    "        print \"Name : \",name\n",
    "        time.sleep(1)\n",
    "    print \"fun function stoped\"\n",
    "def main():\n",
    "    print \"main function started\"\n",
    "    thread.start_new_thread(fun,(\"ashish\",))\n",
    "    thread.start_new_thread(fun,(\"darshan\",))\n",
    "    print \"main function stoped\"\n",
    "\n",
    "if __name__ == \"__main__\":\n",
    "    print \"start time : \",time.time()\n",
    "    main()\n",
    "    print \"stop time : \", time.time()"
   ]
  }
 ],
 "metadata": {
  "kernelspec": {
   "display_name": "Python 2",
   "language": "python",
   "name": "python2"
  },
  "language_info": {
   "codemirror_mode": {
    "name": "ipython",
    "version": 2
   },
   "file_extension": ".py",
   "mimetype": "text/x-python",
   "name": "python",
   "nbconvert_exporter": "python",
   "pygments_lexer": "ipython2",
   "version": "2.7.16"
  }
 },
 "nbformat": 4,
 "nbformat_minor": 2
}
