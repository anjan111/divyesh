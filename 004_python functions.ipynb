{
 "cells": [
  {
   "cell_type": "markdown",
   "metadata": {},
   "source": [
    "##### function \n",
    "\n",
    "===>> collection of statements as block to do any one specific task with in program \n",
    "\n",
    "===>> to reduce  the code size\n",
    "\n",
    "===>> to easy to understand the program\n",
    "\n",
    "##### functions are 2 types \n",
    "\n",
    "1. predefined functions \n",
    "\n",
    "    ===>>>  the functions are already defined inside of the python / built-in function\n",
    "    \n",
    "    ===>>>   input function , print  , type , id , int(), float()\n",
    "\n",
    "\n",
    "2. User defined functions\n",
    "\n",
    "    ===>>  The functions which are defined by programmer --> programmer defined fun\n",
    "    \n",
    "    ===>>  def keyword -->> is used for to create a function\n",
    "    \n",
    "    ===>>  we should have two function componets \n",
    "    \n",
    "            1.  function defination\n",
    "            \n",
    "                    ==>> set of statements we should wright inside function def\n",
    "            \n",
    "            2.   function  call\n",
    "            \n",
    "                    ==>> if you want to execute the function def we should call function def\n",
    "       "
   ]
  },
  {
   "cell_type": "code",
   "execution_count": 3,
   "metadata": {},
   "outputs": [
    {
     "name": "stdout",
     "output_type": "stream",
     "text": [
      "enter a : 45\n",
      "enter b : 45\n",
      "sum :  90\n",
      "**********\n",
      "enter a : 89\n",
      "enter b : 91\n",
      "sum :  180\n"
     ]
    }
   ],
   "source": [
    "'''\n",
    "----->>> function defination\n",
    "\n",
    "def  fun_name():----->> header of function\n",
    "    Task\n",
    "    ----        ----->> body of function\n",
    "    ----\n",
    "    \n",
    "fun_name() # function call\n",
    "fun_name() # function call\n",
    "fun_name() # function call\n",
    "'''\n",
    "# waf sum of 2 numbers\n",
    "def sum_of(): # function defination\n",
    "    a = input(\"enter a : \")\n",
    "    b = input(\"enter b : \")\n",
    "    c = a+b\n",
    "    print \"sum : \",c\n",
    "    \n",
    "sum_of()# function call\n",
    "print \"**********\"\n",
    "sum_of()"
   ]
  },
  {
   "cell_type": "code",
   "execution_count": 6,
   "metadata": {},
   "outputs": [
    {
     "name": "stdout",
     "output_type": "stream",
     "text": [
      "enter num : 45\n"
     ]
    }
   ],
   "source": [
    "# waf for given number is prime number \n",
    "\n",
    "def isprime():\n",
    "    num = input(\"enter num : \")\n",
    "    for var in range(2,num):\n",
    "        if(num % var == 0):\n",
    "            break\n",
    "    else:\n",
    "        print \"its prime number\"\n",
    "isprime()"
   ]
  },
  {
   "cell_type": "code",
   "execution_count": 9,
   "metadata": {},
   "outputs": [
    {
     "name": "stdout",
     "output_type": "stream",
     "text": [
      "123\n",
      "100\n",
      "420\n"
     ]
    }
   ],
   "source": [
    "# arguments\n",
    "'''\n",
    "===>>> to send the data from function call to function defination\n",
    "'''\n",
    "def fun(a,b,c):# formal argu\n",
    "    print a\n",
    "    print b\n",
    "    print c\n",
    "    \n",
    "var = 100\n",
    "fun(123 , var, 12+12*34)# actaul arg\n"
   ]
  },
  {
   "cell_type": "code",
   "execution_count": 10,
   "metadata": {},
   "outputs": [
    {
     "name": "stdout",
     "output_type": "stream",
     "text": [
      "hai\n",
      "100\n"
     ]
    }
   ],
   "source": [
    "# return \n",
    "'''\n",
    "===>. sending the data  from fun def to fun call\n",
    "===>. terminate the function\n",
    "'''\n",
    "def fun():\n",
    "    print \"hai\"\n",
    "    return 100\n",
    "    print \"bye\"\n",
    "a = fun()\n",
    "print a"
   ]
  }
 ],
 "metadata": {
  "kernelspec": {
   "display_name": "Python 2",
   "language": "python",
   "name": "python2"
  },
  "language_info": {
   "codemirror_mode": {
    "name": "ipython",
    "version": 2
   },
   "file_extension": ".py",
   "mimetype": "text/x-python",
   "name": "python",
   "nbconvert_exporter": "python",
   "pygments_lexer": "ipython2",
   "version": "2.7.16"
  }
 },
 "nbformat": 4,
 "nbformat_minor": 2
}
