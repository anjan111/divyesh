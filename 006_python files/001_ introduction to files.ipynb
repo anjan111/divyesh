{
 "cells": [
  {
   "cell_type": "markdown",
   "metadata": {},
   "source": [
    "#### file\n",
    "\n",
    "--->> It is a document\n",
    "\n",
    "--->> it is a part of the storage device \n",
    "\n",
    "--->> File is a part of the  storage  device it can store only related information\n",
    "\n",
    "#### Type of the files\n",
    "\n",
    "--->> there are  2 types files \n",
    "\n",
    "1. Text files\n",
    "\n",
    "        -->> A file it contains only alpha numarical characters\n",
    "        \n",
    "        -->> easy to write the data and easy to read also\n",
    "        \n",
    "        -->> .txt  / .doc / .ppt / .py / .c ( sourse code files )\n",
    "\n",
    "2. Binary files\n",
    "\n",
    "        -->> A files it contains only   0 & 1\n",
    "        \n",
    "        -->> its deficult to write and read\n",
    "        \n",
    "        -->> all .exe  files / all images / all video files \n",
    "       \n",
    "#### file operations\n",
    "\n",
    "--->> we can open file\n",
    "\n",
    "--->> we can write the daata into the file\n",
    "\n",
    "--->> we can read the data from the file\n",
    "\n",
    "--->> we can close operation\n",
    "\n",
    "#### file operational methods \n",
    "\n",
    "--->> we have one FILE class --->> file object \n",
    "\n",
    "-->> with in the file class only we have all file operational methods \n",
    "\n",
    "        1. write() ---> write the data into the file\n",
    "        \n",
    "        2. read()  ---> read the data from file\n",
    "        \n",
    "        3. close() ---> closing the file\n",
    "        \n",
    "        4. tell()  ---> to know the cursor location\n",
    "        \n",
    "        5. seek()  ---> to changing  the cursor location\n",
    "        \n",
    "        6. readline() ->  at a time we can read only single line\n",
    "        \n",
    "        7. readlines() -> at a time to read all lines \n",
    "        \n",
    "--->>  open() --->> it is a predefined method which is used for to create the file object\n",
    "\n",
    "### syntax :-\n",
    "-------------\n",
    "\n",
    "file_obj = open(\"file name with path \", \"mode\")\n",
    "\n",
    "###### mode  of operations\n",
    "\n",
    "1. write mode\n",
    "        \n",
    "        \"w\" --->> only for writing  / if i try to read then error\n",
    "        \n",
    "        \"w+\" -->> both write and read it\n",
    "        \n",
    "        --->> file can open freshly \n",
    "        \n",
    "        --->> file is not existed then created \n",
    "        \n",
    "        --->> file is existed with some data then delete the data and open freshly\n",
    "\n",
    "2. read mode\n",
    "\n",
    "        \"r\" --->> only for reading \n",
    "        \n",
    "        \"r+\" -->> both read + write\n",
    "        \n",
    "        -->> the file is not existed then its error\n",
    "        \n",
    "        -->> the file is existed with some data then it open with losing the data\n",
    "\n",
    "3. append mode\n",
    "\n",
    "        \"a\" --->> only for writing  / if i try to read then error\n",
    "        \n",
    "        \"a+\" -->> both write and read it\n",
    "        \n",
    "        --->> file is not existed then created \n",
    "        \n",
    "        -->> the file is existed with some data then it open with losing the data"
   ]
  },
  {
   "cell_type": "code",
   "execution_count": 1,
   "metadata": {},
   "outputs": [
    {
     "name": "stdout",
     "output_type": "stream",
     "text": [
      "enter some new text : \"i am anjan kumar from india\"\n"
     ]
    }
   ],
   "source": [
    "# write mode with \"w\"\n",
    "\n",
    "file_obj =  open(\"new_write.txt\",\"w\") # file is not existed\n",
    "data = input(\"enter some new text : \")\n",
    "file_obj.write(data)\n",
    "file_obj.close()"
   ]
  },
  {
   "cell_type": "code",
   "execution_count": 2,
   "metadata": {},
   "outputs": [
    {
     "name": "stdout",
     "output_type": "stream",
     "text": [
      "enter some new text : \"i am python and data science trainer\"\n"
     ]
    }
   ],
   "source": [
    "# write mode with \"w\"\n",
    "\n",
    "file_obj =  open(\"new_write.txt\",\"w\") # file is  existed\n",
    "data = input(\"enter some new text : \")\n",
    "file_obj.write(data)\n",
    "file_obj.close()"
   ]
  },
  {
   "cell_type": "code",
   "execution_count": 4,
   "metadata": {},
   "outputs": [
    {
     "name": "stdout",
     "output_type": "stream",
     "text": [
      "initail file cursor  :  0\n",
      "enter some new text : \"hello\"\n",
      "after data write  file cursor  :  5\n",
      "moving the BOF : \n",
      "initail file cursor  :  0\n"
     ]
    }
   ],
   "source": [
    "# write mode with \"w\"\n",
    "\n",
    "file_obj =  open(\"new_write.txt\",\"w\") # file is  existed\n",
    "print \"initail file cursor  : \",file_obj.tell()# 0\n",
    "data = input(\"enter some new text : \")\n",
    "file_obj.write(data)\n",
    "print \"after data write  file cursor  : \",file_obj.tell()# no of character\n",
    "# change the cursor loc to start ogf the file  seek(+ve/-ve ,0/1/2 )\n",
    "print \"moving the BOF : \"\n",
    "file_obj.seek(0,0)\n",
    "print \"initail file cursor  : \",file_obj.tell()# 0\n",
    "file_obj.close()"
   ]
  },
  {
   "cell_type": "code",
   "execution_count": 5,
   "metadata": {},
   "outputs": [
    {
     "name": "stdout",
     "output_type": "stream",
     "text": [
      "initail file cursor  :  0\n",
      "enter some new text : \"hello\"\n",
      "after data write  file cursor  :  5\n",
      "moving the BOF : \n",
      "initail file cursor  :  0\n",
      "reading : "
     ]
    },
    {
     "ename": "IOError",
     "evalue": "File not open for reading",
     "output_type": "error",
     "traceback": [
      "\u001b[1;31m---------------------------------------------------------------------------\u001b[0m",
      "\u001b[1;31mIOError\u001b[0m                                   Traceback (most recent call last)",
      "\u001b[1;32m<ipython-input-5-b60707a58bfb>\u001b[0m in \u001b[0;36m<module>\u001b[1;34m()\u001b[0m\n\u001b[0;32m     10\u001b[0m \u001b[0mfile_obj\u001b[0m\u001b[1;33m.\u001b[0m\u001b[0mseek\u001b[0m\u001b[1;33m(\u001b[0m\u001b[1;36m0\u001b[0m\u001b[1;33m,\u001b[0m\u001b[1;36m0\u001b[0m\u001b[1;33m)\u001b[0m\u001b[1;33m\u001b[0m\u001b[0m\n\u001b[0;32m     11\u001b[0m \u001b[1;32mprint\u001b[0m \u001b[1;34m\"initail file cursor  : \"\u001b[0m\u001b[1;33m,\u001b[0m\u001b[0mfile_obj\u001b[0m\u001b[1;33m.\u001b[0m\u001b[0mtell\u001b[0m\u001b[1;33m(\u001b[0m\u001b[1;33m)\u001b[0m\u001b[1;31m# 0\u001b[0m\u001b[1;33m\u001b[0m\u001b[0m\n\u001b[1;32m---> 12\u001b[1;33m \u001b[1;32mprint\u001b[0m \u001b[1;34m\"reading : \"\u001b[0m\u001b[1;33m,\u001b[0m \u001b[0mfile_obj\u001b[0m\u001b[1;33m.\u001b[0m\u001b[0mread\u001b[0m\u001b[1;33m(\u001b[0m\u001b[1;33m)\u001b[0m\u001b[1;33m\u001b[0m\u001b[0m\n\u001b[0m\u001b[0;32m     13\u001b[0m \u001b[0mfile_obj\u001b[0m\u001b[1;33m.\u001b[0m\u001b[0mclose\u001b[0m\u001b[1;33m(\u001b[0m\u001b[1;33m)\u001b[0m\u001b[1;33m\u001b[0m\u001b[0m\n",
      "\u001b[1;31mIOError\u001b[0m: File not open for reading"
     ]
    }
   ],
   "source": [
    "# write mode with \"w\"\n",
    "\n",
    "file_obj =  open(\"new_write.txt\",\"w\") # file is  existed\n",
    "print \"initail file cursor  : \",file_obj.tell()# 0\n",
    "data = input(\"enter some new text : \")\n",
    "file_obj.write(data)\n",
    "print \"after data write  file cursor  : \",file_obj.tell()# no of character\n",
    "# change the cursor loc to start ogf the file  seek(+ve/-ve ,0/1/2 )\n",
    "print \"moving the BOF : \"\n",
    "file_obj.seek(0,0)\n",
    "print \"initail file cursor  : \",file_obj.tell()# 0\n",
    "print \"reading : \", file_obj.read()\n",
    "file_obj.close()"
   ]
  },
  {
   "cell_type": "code",
   "execution_count": 6,
   "metadata": {},
   "outputs": [
    {
     "name": "stdout",
     "output_type": "stream",
     "text": [
      " initail file cursor  :  0\n",
      "enter some new text : \"i am anjan\"\n",
      "after data write  file cursor  :  10\n",
      "moving the BOF : \n",
      "initail file cursor  :  0\n"
     ]
    }
   ],
   "source": [
    "# write mode with \"w+\"\n",
    "\n",
    "file_obj =  open(\"new_write.txt\",\"w+\") # file is  existed\n",
    "print \"initail file cursor  : \",file_obj.tell()# 0\n",
    "data = input(\"enter some new text : \")\n",
    "file_obj.write(data)\n",
    "print \"after data write  file cursor  : \",file_obj.tell()# no of character\n",
    "# change the cursor loc to start ogf the file  seek(+ve/-ve ,0/1/2 )\n",
    "print \"moving the BOF : \"\n",
    "file_obj.seek(0,0)\n",
    "print \"initail file cursor  : \",file_obj.tell()# 0\n",
    "file_obj.close()"
   ]
  },
  {
   "cell_type": "code",
   "execution_count": 7,
   "metadata": {},
   "outputs": [
    {
     "name": "stdout",
     "output_type": "stream",
     "text": [
      "initail file cursor  :  0\n",
      "enter some new text : \"anjan kumar\"\n",
      "after data write  file cursor  :  11\n",
      "moving the BOF : \n",
      "initail file cursor  :  0\n",
      "reading :  anjan kumar\n"
     ]
    }
   ],
   "source": [
    "# write mode with \"w+\"\n",
    "\n",
    "file_obj =  open(\"new_write.txt\",\"w+\") # file is  existed\n",
    "print \"initail file cursor  : \",file_obj.tell()# 0\n",
    "data = input(\"enter some new text : \")\n",
    "file_obj.write(data)\n",
    "print \"after data write  file cursor  : \",file_obj.tell()# no of character\n",
    "# change the cursor loc to start ogf the file  seek(+ve/-ve ,0/1/2 )\n",
    "print \"moving the BOF : \"\n",
    "file_obj.seek(0,0)\n",
    "print \"initail file cursor  : \",file_obj.tell()# 0\n",
    "print \"reading : \", file_obj.read()\n",
    "file_obj.close()"
   ]
  }
 ],
 "metadata": {
  "kernelspec": {
   "display_name": "Python 2",
   "language": "python",
   "name": "python2"
  },
  "language_info": {
   "codemirror_mode": {
    "name": "ipython",
    "version": 2
   },
   "file_extension": ".py",
   "mimetype": "text/x-python",
   "name": "python",
   "nbconvert_exporter": "python",
   "pygments_lexer": "ipython2",
   "version": "2.7.16"
  }
 },
 "nbformat": 4,
 "nbformat_minor": 2
}
