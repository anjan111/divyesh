{
 "cells": [
  {
   "cell_type": "code",
   "execution_count": 1,
   "metadata": {},
   "outputs": [],
   "source": [
    "import sqlite3 as sql\n",
    "'''\n",
    "-->> connect()-> to create the database/ then open it \n",
    "-->> cursor() --> to operating on database\n",
    "-->> execute() -->> to execute the sql statements\n",
    "-->> commit() -->> to update the original database\n",
    "-->> close()\n",
    "'''\n",
    "con = sql.connect('new.db')\n",
    "con.close()\n"
   ]
  },
  {
   "cell_type": "code",
   "execution_count": 3,
   "metadata": {},
   "outputs": [],
   "source": [
    "con = sql.connect('new.db')\n",
    "cur = con.cursor()\n",
    "cur.execute('CREATE TABLE t2(s_no,name)')\n",
    "con.close()\n"
   ]
  },
  {
   "cell_type": "code",
   "execution_count": 4,
   "metadata": {},
   "outputs": [],
   "source": [
    "con = sql.connect('new.db')\n",
    "cur = con.cursor()\n",
    "cur.execute('CREATE TABLE t3(s_no,name)')\n",
    "con.close()\n"
   ]
  },
  {
   "cell_type": "code",
   "execution_count": 8,
   "metadata": {},
   "outputs": [],
   "source": [
    "con = sql.connect('new.db')\n",
    "cur = con.cursor()\n",
    "cur.execute(\"Insert into t3 values(2,'anjan')\")\n",
    "con.commit()\n",
    "con.close()\n"
   ]
  },
  {
   "cell_type": "code",
   "execution_count": 9,
   "metadata": {},
   "outputs": [],
   "source": [
    "con = sql.connect('new.db')\n",
    "cur = con.cursor()\n",
    "cur.execute(\"Insert into t3 values(3,'aiman')\")\n",
    "con.commit()\n",
    "con.close()\n"
   ]
  },
  {
   "cell_type": "code",
   "execution_count": 10,
   "metadata": {},
   "outputs": [],
   "source": [
    "con = sql.connect('new.db')\n",
    "cur = con.cursor()\n",
    "cur.execute(\"UPDATE t3 set name ='sarath' where s_no =3\")\n",
    "con.commit()\n",
    "con.close()"
   ]
  },
  {
   "cell_type": "code",
   "execution_count": 11,
   "metadata": {},
   "outputs": [
    {
     "name": "stdout",
     "output_type": "stream",
     "text": [
      "(2, u'anjan')\n",
      "(3, u'sarath')\n"
     ]
    }
   ],
   "source": [
    "con = sql.connect('new.db')\n",
    "cur = con.cursor()\n",
    "cur.execute(\"SELECT * FROM t3\")\n",
    "for record  in cur.fetchall():\n",
    "    print record\n",
    "con.commit()\n",
    "con.close()"
   ]
  },
  {
   "cell_type": "code",
   "execution_count": null,
   "metadata": {},
   "outputs": [],
   "source": []
  },
  {
   "cell_type": "code",
   "execution_count": null,
   "metadata": {},
   "outputs": [],
   "source": []
  },
  {
   "cell_type": "code",
   "execution_count": null,
   "metadata": {},
   "outputs": [],
   "source": []
  }
 ],
 "metadata": {
  "kernelspec": {
   "display_name": "Python 2",
   "language": "python",
   "name": "python2"
  },
  "language_info": {
   "codemirror_mode": {
    "name": "ipython",
    "version": 2
   },
   "file_extension": ".py",
   "mimetype": "text/x-python",
   "name": "python",
   "nbconvert_exporter": "python",
   "pygments_lexer": "ipython2",
   "version": "2.7.16"
  }
 },
 "nbformat": 4,
 "nbformat_minor": 2
}
