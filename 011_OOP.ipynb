{
 "cells": [
  {
   "cell_type": "markdown",
   "metadata": {},
   "source": [
    "#### OOPL :\n",
    "\n",
    "-->>If any PL is follows the following features\n",
    "\n",
    "    1. polymorphism\n",
    "    \n",
    "    2. Inheritance \n",
    "    \n",
    "    3. Method overridding & over loading \n",
    "    \n",
    "    4. Operator Overloading & over ridding \n",
    "    \n",
    "    5. Data hiding \n",
    "    \n",
    "    6. Data encapulsation\n",
    "    \n",
    "--->> If you want be follow the OOPs features we need the following components\n",
    "\n",
    "    1. class\n",
    "    \n",
    "    2. object\n",
    "    \n",
    "    3. methods\n",
    "    \n",
    "##### Class \n",
    "\n",
    "--->>Its a logical entity for an object\n",
    "\n",
    "--->>Which is collection of attributes \n",
    "\n",
    "--->>Class is a imagination for an object\n",
    "\n",
    "--->> The structure for an object\n",
    "\n",
    "--->> class is a keyword , which is used to create the class\n",
    "\n",
    "--->> Memory no needed \n",
    "\n",
    "--->> Using single class we can create multiple objects\n"
   ]
  },
  {
   "cell_type": "code",
   "execution_count": 1,
   "metadata": {},
   "outputs": [
    {
     "name": "stdout",
     "output_type": "stream",
     "text": [
      "100\n",
      "50\n",
      "*****\n",
      "100\n",
      "50\n",
      "*****\n",
      "100\n",
      "50\n"
     ]
    }
   ],
   "source": [
    "# syntax of class\n",
    "'''\n",
    "class  class_name():\n",
    "    attributues\n",
    "    -----------\n",
    "    -----------\n",
    "'''\n",
    "# object\n",
    "'''\n",
    "-->> It is an instance of the class\n",
    "-->> It is a physical entity for logical class\n",
    "'''\n",
    "#obj1 = class_name()\n",
    "#obj2 = class_name()\n",
    "#obj3 = class_name()\n",
    "# wap for understand the class and object\n",
    "\n",
    "class Class_name():\n",
    "    a = 100\n",
    "    b   = 50\n",
    "    \n",
    "obj1 =Class_name()\n",
    "obj2 = Class_name()\n",
    "obj3 = Class_name()\n",
    "\n",
    "print obj1.a\n",
    "print obj1.b\n",
    "print \"*****\"\n",
    "print obj2.a\n",
    "print obj2.b\n",
    "print \"*****\"\n",
    "print obj3.a\n",
    "print obj3.b\n"
   ]
  },
  {
   "cell_type": "code",
   "execution_count": 2,
   "metadata": {},
   "outputs": [
    {
     "name": "stdout",
     "output_type": "stream",
     "text": [
      "100\n",
      "50\n",
      "*****\n",
      "100\n",
      "50\n",
      "*****\n",
      "100\n",
      "50\n",
      "45\n",
      "50\n",
      "*****\n",
      "90\n",
      "50\n",
      "*****\n",
      "23\n",
      "50\n"
     ]
    }
   ],
   "source": [
    "# syntax of class\n",
    "'''\n",
    "class  class_name():\n",
    "    attributues\n",
    "    -----------\n",
    "    -----------\n",
    "'''\n",
    "# object\n",
    "'''\n",
    "-->> It is an instance of the class\n",
    "-->> It is a physical entity for logical class\n",
    "'''\n",
    "#obj1 = class_name()\n",
    "#obj2 = class_name()\n",
    "#obj3 = class_name()\n",
    "# wap for understand the class and object\n",
    "\n",
    "class Class_name():\n",
    "    a = 100\n",
    "    b   = 50\n",
    "obj1 =Class_name()\n",
    "obj2 = Class_name()\n",
    "obj3 = Class_name()\n",
    "print obj1.a\n",
    "print obj1.b\n",
    "print \"*****\"\n",
    "print obj2.a\n",
    "print obj2.b\n",
    "print \"*****\"\n",
    "print obj3.a\n",
    "print obj3.b\n",
    "obj1.a = 45\n",
    "obj2.a = 90\n",
    "obj3.a = 23\n",
    "\n",
    "print obj1.a\n",
    "print obj1.b\n",
    "print \"*****\"\n",
    "print obj2.a\n",
    "print obj2.b\n",
    "print \"*****\"\n",
    "print obj3.a\n",
    "print obj3.b"
   ]
  },
  {
   "cell_type": "code",
   "execution_count": 6,
   "metadata": {},
   "outputs": [
    {
     "name": "stdout",
     "output_type": "stream",
     "text": [
      "10\n",
      "20\n",
      "enter a : 89\n",
      "enter b : 26\n",
      "89\n",
      "26\n"
     ]
    }
   ],
   "source": [
    "# method\n",
    "'''\n",
    "A function we are defining inside of the class\n",
    "\n",
    "--->> special methods --->> without any method calling automatically executes\n",
    "\n",
    "            __methodname__\n",
    "\n",
    "--->> normal methods \n",
    "'''\n",
    "class Class_name():\n",
    "    def create(self):\n",
    "        self.a = 10\n",
    "        self.b =20\n",
    "    def access(self):\n",
    "        print self.a\n",
    "        print self.b\n",
    "    def modify(self):\n",
    "        self.a = input(\"enter a : \")\n",
    "        self.b = input(\"enter b : \")\n",
    "obj = Class_name()\n",
    "obj.create()\n",
    "obj.access()\n",
    "obj.modify()\n",
    "obj.access()"
   ]
  },
  {
   "cell_type": "code",
   "execution_count": 7,
   "metadata": {},
   "outputs": [
    {
     "name": "stdout",
     "output_type": "stream",
     "text": [
      "This is constructor \n",
      "10\n",
      "20\n",
      "enter a : 456\n",
      "enter b : 654\n",
      "456\n",
      "654\n"
     ]
    }
   ],
   "source": [
    "# constructor\n",
    "'''\n",
    "--->> whenever the new object is creating\n",
    "__init__\n",
    "'''\n",
    "class Class_name():\n",
    "    def __init__(self):# unparameterized constuctor\n",
    "        print \"This is constructor \"\n",
    "        self.a = 10\n",
    "        self.b =20\n",
    "    def access(self):\n",
    "        print self.a\n",
    "        print self.b\n",
    "    def modify(self):\n",
    "        self.a = input(\"enter a : \")\n",
    "        self.b = input(\"enter b : \")\n",
    "obj = Class_name()\n",
    "obj.access()\n",
    "obj.modify()\n",
    "obj.access()"
   ]
  },
  {
   "cell_type": "code",
   "execution_count": 1,
   "metadata": {},
   "outputs": [
    {
     "name": "stdout",
     "output_type": "stream",
     "text": [
      "This is constructor \n",
      "12\n",
      "90\n",
      "enter a : 89\n",
      "enter b : 99\n",
      "89\n",
      "99\n"
     ]
    }
   ],
   "source": [
    "class Class_name():\n",
    "    def __init__(self,a,b):# parameterized constuctor\n",
    "        print \"This is constructor \"\n",
    "        self.a = a\n",
    "        self.b = b\n",
    "    def access(self):\n",
    "        print self.a\n",
    "        print self.b\n",
    "    def modify(self):\n",
    "        self.a = input(\"enter a : \")\n",
    "        self.b = input(\"enter b : \")\n",
    "obj = Class_name(12,90)\n",
    "obj.access()\n",
    "obj.modify()\n",
    "obj.access()"
   ]
  },
  {
   "cell_type": "code",
   "execution_count": 2,
   "metadata": {},
   "outputs": [
    {
     "name": "stdout",
     "output_type": "stream",
     "text": [
      "This is constructor \n",
      "10\n",
      "20\n",
      "enter a : 89\n",
      "enter b : 99\n",
      "89\n",
      "99\n",
      "i am distructor\n"
     ]
    }
   ],
   "source": [
    "# destructor\n",
    "'''\n",
    "while perminantly remove from memory loc \n",
    "__del__\n",
    "'''\n",
    "class Class_name():\n",
    "    def __init__(self):# unparameterized constuctor\n",
    "        print \"This is constructor \"\n",
    "        self.a = 10\n",
    "        self.b =20\n",
    "    def access(self):\n",
    "        print self.a\n",
    "        print self.b\n",
    "    def modify(self):\n",
    "        self.a = input(\"enter a : \")\n",
    "        self.b = input(\"enter b : \")\n",
    "    def __del__(self):\n",
    "        print \"i am distructor\"\n",
    "obj = Class_name()\n",
    "obj.access()\n",
    "obj.modify()\n",
    "obj.access()\n",
    "del obj"
   ]
  },
  {
   "cell_type": "code",
   "execution_count": 4,
   "metadata": {},
   "outputs": [
    {
     "name": "stdout",
     "output_type": "stream",
     "text": [
      "100\n",
      "200\n",
      "100\n"
     ]
    },
    {
     "ename": "AttributeError",
     "evalue": "Class_name instance has no attribute '__b'",
     "output_type": "error",
     "traceback": [
      "\u001b[1;31m---------------------------------------------------------------------------\u001b[0m",
      "\u001b[1;31mAttributeError\u001b[0m                            Traceback (most recent call last)",
      "\u001b[1;32m<ipython-input-4-d1f9e777c269>\u001b[0m in \u001b[0;36m<module>\u001b[1;34m()\u001b[0m\n\u001b[0;32m     12\u001b[0m \u001b[0mobj\u001b[0m\u001b[1;33m.\u001b[0m\u001b[0maccess\u001b[0m\u001b[1;33m(\u001b[0m\u001b[1;33m)\u001b[0m\u001b[1;33m\u001b[0m\u001b[0m\n\u001b[0;32m     13\u001b[0m \u001b[1;32mprint\u001b[0m \u001b[0mobj\u001b[0m\u001b[1;33m.\u001b[0m\u001b[0ma\u001b[0m\u001b[1;33m\u001b[0m\u001b[0m\n\u001b[1;32m---> 14\u001b[1;33m \u001b[1;32mprint\u001b[0m \u001b[0mobj\u001b[0m\u001b[1;33m.\u001b[0m\u001b[0m__b\u001b[0m\u001b[1;33m\u001b[0m\u001b[0m\n\u001b[0m",
      "\u001b[1;31mAttributeError\u001b[0m: Class_name instance has no attribute '__b'"
     ]
    }
   ],
   "source": [
    "# data hidinng \n",
    "'''\n",
    "we can't access the class attributes outside of the class\n",
    "'''\n",
    "class Class_name():\n",
    "    a = 100\n",
    "    __b = 200# private attributes \n",
    "    def access(self):\n",
    "        print self.a\n",
    "        print self.__b\n",
    "obj = Class_name()\n",
    "obj.access()\n",
    "print obj.a\n",
    "print obj.__b\n"
   ]
  },
  {
   "cell_type": "code",
   "execution_count": 5,
   "metadata": {},
   "outputs": [
    {
     "name": "stdout",
     "output_type": "stream",
     "text": [
      "100\n",
      "200\n",
      "100\n",
      "200\n"
     ]
    }
   ],
   "source": [
    "# data ecapulation\n",
    "'''\n",
    "data hidedd attribute we have to access outside of the class\n",
    "'''\n",
    "class Class_name():\n",
    "    a = 100\n",
    "    __b = 200# private attributes \n",
    "    def access(self):\n",
    "        print self.a\n",
    "        print self.__b\n",
    "obj = Class_name()\n",
    "obj.access()\n",
    "print obj.a\n",
    "print obj._Class_name__b# data encapulation\n"
   ]
  },
  {
   "cell_type": "code",
   "execution_count": 7,
   "metadata": {},
   "outputs": [
    {
     "name": "stdout",
     "output_type": "stream",
     "text": [
      "i am 2nd access method\n",
      "i am 2nd access method\n"
     ]
    }
   ],
   "source": [
    "#method overridding \n",
    "'''\n",
    "--> met1 and met2 \n",
    "--> but both methods are same name\n",
    "--> met2 is overridding by met\n",
    "'''\n",
    "class Class_name():\n",
    "\n",
    "    def access(self):\n",
    "        print \"i am 1st access method\"\n",
    "    def access(self):\n",
    "        print \"i am 2nd access method\"\n",
    "obj = Class_name()\n",
    "obj.access()\n",
    "obj.access()"
   ]
  },
  {
   "cell_type": "code",
   "execution_count": 8,
   "metadata": {},
   "outputs": [
    {
     "name": "stdout",
     "output_type": "stream",
     "text": [
      "i am 2nd access method\n",
      "i am 2nd access method\n"
     ]
    }
   ],
   "source": [
    "#method overloading  ----> not supported \n",
    "'''\n",
    "--> met1 and met2 \n",
    "--> but both methods are same name\n",
    "--> both methods are executed when we required \n",
    "'''\n",
    "class Class_name():\n",
    "\n",
    "    def access(self):\n",
    "        print \"i am 1st access method\"\n",
    "    def access(self, a =None):\n",
    "        print \"i am 2nd access method\"\n",
    "obj = Class_name()\n",
    "obj.access()\n",
    "obj.access(10)"
   ]
  },
  {
   "cell_type": "code",
   "execution_count": 9,
   "metadata": {},
   "outputs": [
    {
     "name": "stdout",
     "output_type": "stream",
     "text": [
      " i am Class1\n",
      " i am Class2\n"
     ]
    }
   ],
   "source": [
    "# polymorphism --->> not supported in python\n",
    "class  Class1():\n",
    "    def poly(self):\n",
    "        print \" i am Class1\"\n",
    "class  Class2():\n",
    "    def poly(self):\n",
    "        print \" i am Class2\"\n",
    "obj1 = Class1()\n",
    "obj2 = Class2()\n",
    "obj1.poly()\n",
    "obj2.poly()"
   ]
  },
  {
   "cell_type": "code",
   "execution_count": 10,
   "metadata": {},
   "outputs": [
    {
     "name": "stdout",
     "output_type": "stream",
     "text": [
      "i am met3\n"
     ]
    },
    {
     "ename": "AttributeError",
     "evalue": "Derived_class instance has no attribute 'met1'",
     "output_type": "error",
     "traceback": [
      "\u001b[1;31m---------------------------------------------------------------------------\u001b[0m",
      "\u001b[1;31mAttributeError\u001b[0m                            Traceback (most recent call last)",
      "\u001b[1;32m<ipython-input-10-dfe962c4dc00>\u001b[0m in \u001b[0;36m<module>\u001b[1;34m()\u001b[0m\n\u001b[0;32m     13\u001b[0m \u001b[0mobj\u001b[0m \u001b[1;33m=\u001b[0m \u001b[0mDerived_class\u001b[0m\u001b[1;33m(\u001b[0m\u001b[1;33m)\u001b[0m\u001b[1;33m\u001b[0m\u001b[0m\n\u001b[0;32m     14\u001b[0m \u001b[0mobj\u001b[0m\u001b[1;33m.\u001b[0m\u001b[0mmet3\u001b[0m\u001b[1;33m(\u001b[0m\u001b[1;33m)\u001b[0m\u001b[1;33m\u001b[0m\u001b[0m\n\u001b[1;32m---> 15\u001b[1;33m \u001b[0mobj\u001b[0m\u001b[1;33m.\u001b[0m\u001b[0mmet1\u001b[0m\u001b[1;33m(\u001b[0m\u001b[1;33m)\u001b[0m\u001b[1;33m\u001b[0m\u001b[0m\n\u001b[0m\u001b[0;32m     16\u001b[0m \u001b[0mobj\u001b[0m\u001b[1;33m.\u001b[0m\u001b[0mmet2\u001b[0m\u001b[1;33m(\u001b[0m\u001b[1;33m)\u001b[0m\u001b[1;33m\u001b[0m\u001b[0m\n",
      "\u001b[1;31mAttributeError\u001b[0m: Derived_class instance has no attribute 'met1'"
     ]
    }
   ],
   "source": [
    "# Inheritance \n",
    "'''\n",
    "we are access the one class properties and behaviors to another class\n",
    "'''\n",
    "class Base_class():# parent class\n",
    "    def met1(self):\n",
    "        print \"i am met1\"\n",
    "    def met2(self):\n",
    "        print \"i am met2\"\n",
    "class Derived_class():# child class\n",
    "    def met3(self):\n",
    "        print \"i am met3\"\n",
    "obj = Derived_class()\n",
    "obj.met3()\n",
    "obj.met1()\n",
    "obj.met2()"
   ]
  },
  {
   "cell_type": "code",
   "execution_count": 11,
   "metadata": {},
   "outputs": [
    {
     "name": "stdout",
     "output_type": "stream",
     "text": [
      "i am met3\n",
      "i am met1\n",
      "i am met2\n"
     ]
    }
   ],
   "source": [
    "# Inheritance \n",
    "'''\n",
    "we are access the one class properties and behaviors to another class\n",
    "'''\n",
    "class Base_class():# parent class\n",
    "    def met1(self):\n",
    "        print \"i am met1\"\n",
    "    def met2(self):\n",
    "        print \"i am met2\"\n",
    "class Derived_class(Base_class):# child class\n",
    "    def met3(self):\n",
    "        print \"i am met3\"\n",
    "obj = Derived_class()\n",
    "obj.met3()\n",
    "obj.met1()\n",
    "obj.met2()"
   ]
  },
  {
   "cell_type": "code",
   "execution_count": null,
   "metadata": {},
   "outputs": [],
   "source": []
  },
  {
   "cell_type": "code",
   "execution_count": null,
   "metadata": {},
   "outputs": [],
   "source": []
  },
  {
   "cell_type": "code",
   "execution_count": null,
   "metadata": {},
   "outputs": [],
   "source": []
  }
 ],
 "metadata": {
  "kernelspec": {
   "display_name": "Python 2",
   "language": "python",
   "name": "python2"
  },
  "language_info": {
   "codemirror_mode": {
    "name": "ipython",
    "version": 2
   },
   "file_extension": ".py",
   "mimetype": "text/x-python",
   "name": "python",
   "nbconvert_exporter": "python",
   "pygments_lexer": "ipython2",
   "version": "2.7.16"
  }
 },
 "nbformat": 4,
 "nbformat_minor": 2
}
