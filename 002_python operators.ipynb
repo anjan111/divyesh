{
 "cells": [
  {
   "cell_type": "code",
   "execution_count": 3,
   "metadata": {},
   "outputs": [
    {
     "name": "stdout",
     "output_type": "stream",
     "text": [
      "234\n",
      "-23\n",
      "False\n",
      "-35\n",
      "33\n",
      "22\n",
      "8\n",
      "True\n"
     ]
    }
   ],
   "source": [
    "# operators :-\n",
    "'''\n",
    "===>> The symbols which are used for to do the operations on  operands \n",
    "'''\n",
    "# operations :-\n",
    "'''\n",
    "===>> the way of giving the solutons for problams\n",
    "'''\n",
    "# operands\n",
    "'''\n",
    "===>> the data with in the operations \n",
    "'''\n",
    "# there are 2 ways we classified the operator\n",
    "'''\n",
    "===>> based on operands\n",
    "'''\n",
    "# based on no of operands the operators are classified\n",
    "\n",
    "'''\n",
    "1. unary operator\n",
    "\n",
    "===>> the operator operating on single operand\n",
    "\n",
    "    1. unary plus   +\n",
    "    2. unary minus  -\n",
    "    3. logical not  not\n",
    "    4. bitwise not  ~\n",
    "    \n",
    "'''\n",
    "print   + 234 # unary plus\n",
    "print   - 23  # unary minus\n",
    "print   not 34 # logical not\n",
    "print   ~ 34 # bitwise not \n",
    "\n",
    "# binary operator\n",
    "'''\n",
    "==>> the single operator is operating on 2 operands \n",
    "'''\n",
    "print 10 +23\n",
    "print 45 - 23\n",
    "print 2*4\n",
    "print 30 < 45"
   ]
  },
  {
   "cell_type": "code",
   "execution_count": 5,
   "metadata": {},
   "outputs": [
    {
     "name": "stdout",
     "output_type": "stream",
     "text": [
      "15\n",
      "11\n",
      "26\n",
      "6\n",
      "1\n",
      "169\n"
     ]
    }
   ],
   "source": [
    "# based on operations\n",
    "'''\n",
    "==>> arithmetic operator\n",
    "==>> relational operator\n",
    "==>> logical operator\n",
    "==>> assignment operator\n",
    "==>> special operators\n",
    "==>> bitwise operators\n",
    "'''\n",
    "# arithmetic operators\n",
    "'''\n",
    "==>>   +\n",
    "==>>   -\n",
    "==>>   *\n",
    "==>>   / \n",
    "==>>   %  ---> reminder\n",
    "'''\n",
    "a =13\n",
    "b = 2\n",
    "print a+b\n",
    "print a-b\n",
    "print a*b\n",
    "print a/b  # 6\n",
    "print a %b # 1\n",
    "# -->>  **  --->> power\n",
    "# -->>  //  --->> floor devision\n",
    "print a **b"
   ]
  },
  {
   "cell_type": "code",
   "execution_count": 6,
   "metadata": {},
   "outputs": [
    {
     "name": "stdout",
     "output_type": "stream",
     "text": [
      "6\n",
      "6\n"
     ]
    }
   ],
   "source": [
    "a = 13\n",
    "b = 2\n",
    "print a/b # 6\n",
    "print a // b # 6\n"
   ]
  },
  {
   "cell_type": "code",
   "execution_count": 8,
   "metadata": {},
   "outputs": [
    {
     "name": "stdout",
     "output_type": "stream",
     "text": [
      "6.5\n",
      "6.0\n"
     ]
    }
   ],
   "source": [
    "a = 13.0\n",
    "b = 2\n",
    "print a/b # 6.5\n",
    "print a // b # 6.0"
   ]
  },
  {
   "cell_type": "code",
   "execution_count": 10,
   "metadata": {},
   "outputs": [
    {
     "name": "stdout",
     "output_type": "stream",
     "text": [
      "enter side a  in m: 7\n",
      "enter side b in m: 7\n",
      "enter side c in m: 7\n",
      "area :  16.4316767252 sq.m\n"
     ]
    }
   ],
   "source": [
    "# wap find the area of triangle\n",
    "a =input(\"enter side a  in m: \")\n",
    "b =input(\"enter side b in m: \")\n",
    "c =input(\"enter side c in m: \")\n",
    "s = (a+b+c)/2\n",
    "area = (s*(s-a)*(s-b)*(s-c))**0.5\n",
    "print \"area : \",area,\"sq.m\""
   ]
  },
  {
   "cell_type": "code",
   "execution_count": null,
   "metadata": {},
   "outputs": [],
   "source": [
    "# wap find the area and perimeter od circle\n",
    "# wap find area and perimeter of square\n",
    "# wap fins the area and peri of rectangle\n",
    "# wap find the area and volume  of cube\n",
    "# wap find the area and volume of cylinder\n",
    "# wap find the simple interst\n",
    "# wap convert radians to degrees and degrees to radians \n"
   ]
  }
 ],
 "metadata": {
  "kernelspec": {
   "display_name": "Python 2",
   "language": "python",
   "name": "python2"
  },
  "language_info": {
   "codemirror_mode": {
    "name": "ipython",
    "version": 2
   },
   "file_extension": ".py",
   "mimetype": "text/x-python",
   "name": "python",
   "nbconvert_exporter": "python",
   "pygments_lexer": "ipython2",
   "version": "2.7.16"
  }
 },
 "nbformat": 4,
 "nbformat_minor": 2
}
